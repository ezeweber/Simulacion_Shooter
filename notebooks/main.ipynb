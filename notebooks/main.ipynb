{
 "cells": [
  {
   "cell_type": "markdown",
   "metadata": {},
   "source": [
    "# Simulacion de partidas y ranking en shooter online\n",
    "\n",
    "SISTEMA DE PUNTUACION: <br>\n",
    "\n",
    "| Acción | Puntos |\n",
    "|--------|--------|\n",
    "| kill   | 3      |\n",
    "| assist | 1      |\n",
    "| death  | -1     |"
   ]
  },
  {
   "cell_type": "code",
   "execution_count": null,
   "metadata": {},
   "outputs": [],
   "source": [
    "import sys\n",
    "import os\n",
    "\n",
    "#Ajustar la ruta para que Python reconozca la carpeta \"src\"\n",
    "ruta_proyecto = os.path.abspath(os.path.join(\"..\"))\n",
    "sys.path.append(ruta_proyecto) \n",
    "#Verificación (debe mostrar la ruta a \"src/\")\n",
    "# print(\"Ruta de 'src':\", os.path.join(ruta_proyecto, \"src\"))"
   ]
  },
  {
   "cell_type": "markdown",
   "metadata": {},
   "source": [
    "Dado el siguiente conjunto de rondas"
   ]
  },
  {
   "cell_type": "code",
   "execution_count": null,
   "metadata": {},
   "outputs": [],
   "source": [
    "rounds = [\n",
    " {\n",
    " 'Shadow': {'kills': 2, 'assists': 1, 'deaths': True},\n",
    " 'Blaze': {'kills': 1, 'assists': 0, 'deaths': False},\n",
    " 'Viper': {'kills': 1, 'assists': 2, 'deaths': True},\n",
    " 'Frost': {'kills': 0, 'assists': 1, 'deaths': False},\n",
    " 'Reaper': {'kills': 1, 'assists': 1, 'deaths': False}\n",
    " },\n",
    " {\n",
    " 'Shadow': {'kills': 0, 'assists': 2, 'deaths': False},\n",
    " 'Blaze': {'kills': 2, 'assists': 0, 'deaths': True},\n",
    " 'Viper': {'kills': 1, 'assists': 1, 'deaths': False},\n",
    " 'Frost': {'kills': 2, 'assists': 1, 'deaths': True},\n",
    " 'Reaper': {'kills': 0, 'assists': 1, 'deaths': False}\n",
    " },\n",
    " {\n",
    " 'Shadow': {'kills': 1, 'assists': 0, 'deaths': False},\n",
    " 'Blaze': {'kills': 2, 'assists': 2, 'deaths': True},\n",
    " 'Viper': {'kills': 1, 'assists': 1, 'deaths': True},\n",
    " 'Frost': {'kills': 0, 'assists': 1, 'deaths': False},\n",
    " 'Reaper': {'kills': 1, 'assists': 1, 'deaths': False}\n",
    " },\n",
    " {\n",
    " 'Shadow': {'kills': 2, 'assists': 1, 'deaths': False},\n",
    " 'Blaze': {'kills': 1, 'assists': 0, 'deaths': True},\n",
    " 'Viper': {'kills': 0, 'assists': 2, 'deaths': False},\n",
    " 'Frost': {'kills': 1, 'assists': 1, 'deaths': True},\n",
    " 'Reaper': {'kills': 1, 'assists': 1, 'deaths': False}\n",
    " },\n",
    " {\n",
    " 'Shadow': {'kills': 1, 'assists': 2, 'deaths': True},\n",
    " 'Blaze': {'kills': 0, 'assists': 1, 'deaths': False},\n",
    " 'Viper': {'kills': 2, 'assists': 0, 'deaths': True},\n",
    " 'Frost': {'kills': 1, 'assists': 1, 'deaths': False},\n",
    " 'Reaper': {'kills': 1, 'assists': 1, 'deaths': True}\n",
    " }\n",
    " ]\n",
    "\n",
    "rondas = rounds.copy"
   ]
  },
  {
   "cell_type": "code",
   "execution_count": null,
   "metadata": {},
   "outputs": [
    {
     "ename": "ModuleNotFoundError",
     "evalue": "No module named 'src'",
     "output_type": "error",
     "traceback": [
      "\u001b[31m---------------------------------------------------------------------------\u001b[39m",
      "\u001b[31mModuleNotFoundError\u001b[39m                       Traceback (most recent call last)",
      "\u001b[36mCell\u001b[39m\u001b[36m \u001b[39m\u001b[32mIn[1]\u001b[39m\u001b[32m, line 1\u001b[39m\n\u001b[32m----> \u001b[39m\u001b[32m1\u001b[39m \u001b[38;5;28;01mfrom\u001b[39;00m\u001b[38;5;250m \u001b[39m\u001b[34;01msrc\u001b[39;00m\u001b[38;5;250m \u001b[39m\u001b[38;5;28;01mimport\u001b[39;00m main\n",
      "\u001b[31mModuleNotFoundError\u001b[39m: No module named 'src'"
     ]
    }
   ],
   "source": [
    "\n",
    "from src.main import simulacion_rondas\n",
    "\n",
    "simulacion_rondas(rounds)\n",
    "\n"
   ]
  }
 ],
 "metadata": {
  "kernelspec": {
   "display_name": "venv",
   "language": "python",
   "name": "python3"
  },
  "language_info": {
   "codemirror_mode": {
    "name": "ipython",
    "version": 3
   },
   "file_extension": ".py",
   "mimetype": "text/x-python",
   "name": "python",
   "nbconvert_exporter": "python",
   "pygments_lexer": "ipython3",
   "version": "3.12.9"
  }
 },
 "nbformat": 4,
 "nbformat_minor": 2
}
